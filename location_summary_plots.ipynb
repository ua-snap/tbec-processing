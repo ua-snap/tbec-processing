{
 "cells": [
  {
   "cell_type": "markdown",
   "id": "c9f45b18-3f42-492a-bc8e-0d2b816166be",
   "metadata": {},
   "source": [
    "# Create summary plots for locations\n",
    "\n",
    "This notebook is for creating some summmary plots for the various locations of interest.\n",
    "\n",
    "The goal is to create barplots of thirteen indicators for each location, which we have summarized over eras and decades.\n",
    "\n",
    "The barplots will show different types of summaries of the above indices across different time spans (main bars) as well as between-model variation (whiskers).\n",
    "\n",
    "## Plotting\n",
    "\n",
    "Run this cell first to set up the environment:"
   ]
  },
  {
   "cell_type": "code",
   "execution_count": 5,
   "id": "d2d0fdf9-8c5f-4d09-bb49-7229027b251b",
   "metadata": {},
   "outputs": [],
   "source": [
    "import warnings\n",
    "import matplotlib.pyplot as plt\n",
    "import matplotlib.patches as mpatches\n",
    "import numpy as np\n",
    "import pandas as pd\n",
    "# project\n",
    "from config import *\n",
    "\n",
    "\n",
    "# for runtime warning that is happening in DataFrame.plot() \n",
    "warnings.simplefilter(action='ignore', category=RuntimeWarning)\n",
    "# for user warning with pyplot.tight_layout plus added axis\n",
    "warnings.simplefilter(action='ignore', category=UserWarning)"
   ]
  },
  {
   "cell_type": "markdown",
   "id": "2d6849fe-0903-469f-b1bc-37710aa50f81",
   "metadata": {},
   "source": [
    "### Decadal summary plots\n",
    "\n",
    "This section will create barplots by decade for all locations and all available indices listed above. This is only done for the mean aggregation though, not the maximum.\n",
    "\n",
    "Define a function to create a barplot from a dataframe of decadal summaries of the indices."
   ]
  },
  {
   "cell_type": "code",
   "execution_count": 6,
   "id": "f3efeece-02cd-44f0-a2be-febb431310e6",
   "metadata": {},
   "outputs": [],
   "source": [
    "# not sure of a better way to change legend title size atm\n",
    "plt.rcParams[\"legend.title_fontsize\"] = 14\n",
    "\n",
    "def make_decade_barplot(df, index, aggr_var, title, ylab):\n",
    "    colors = [\"#d2b48c\", \"#1f77b4\", \"#ff7f0e\"]\n",
    "     \n",
    "    temp_df = (\n",
    "        df[df[\"idx_var\"] == index]\n",
    "        .groupby([\"scenario\", \"decade\"])\n",
    "        .agg({aggr_var: [\"min\", \"mean\", \"max\"]})\n",
    "    )\n",
    "\n",
    "    # drop column multiindex\n",
    "    temp_df = temp_df.droplevel(0, axis=1).reset_index()\n",
    "    avg_df = temp_df.pivot(index=\"decade\", columns=\"scenario\", values=\"mean\")\n",
    "    # error bar limits\n",
    "    ll = (avg_df - temp_df.pivot(index=\"decade\", columns=\"scenario\", values=\"min\")).to_numpy().T\n",
    "    ul = (temp_df.pivot(index=\"decade\", columns=\"scenario\", values=\"max\") - avg_df).to_numpy().T\n",
    "    err = np.array([\n",
    "        [ll[0], ul[0]], #hist limits \n",
    "        [ll[1], ul[1]], #rcp45 limits \n",
    "        [ll[2], ul[2]], #rcp85 limits\n",
    "    ])\n",
    "    fig, ax = plt.subplots(1, figsize=(14, 7))\n",
    "    avg_df.plot(\n",
    "        kind=\"bar\", rot=0, yerr=err, ax=ax, capsize=5, legend=False, color=colors, width=1,\n",
    "    )  # .legend(loc=\"upper left\")\n",
    "\n",
    "    for tick in ax.xaxis.get_major_ticks()[1::2]:\n",
    "        tick.set_pad(15)\n",
    "    ax.tick_params(axis='both', which='major', labelsize=12)\n",
    "    ax.set_ylabel(ylab, size=14, rotation=0, labelpad=15)\n",
    "    ax.set_xlabel(\"Decade\", size=14)\n",
    "    leg_ax = fig.add_axes([1.05, 0.2, 0.02, 0.7])\n",
    "    handles = [\n",
    "        mpatches.Patch(color=colors[0], label=\"Historical\"),\n",
    "        mpatches.Patch(color=colors[1], label=\"RCP 4.5\"),\n",
    "        mpatches.Patch(color=colors[2], label=\"RCP 8.5\"),\n",
    "    ]\n",
    "    leg_ax.set_axis_off()\n",
    "    # Add legend to bottom-right ax\n",
    "    leg_ax.legend(handles=handles, loc=\"center\", fontsize=14, title=\"Scenario\")\n",
    "    fig.suptitle(title, size=16)\n",
    "    plt.tight_layout()"
   ]
  },
  {
   "cell_type": "markdown",
   "id": "d9bfab03-6e42-4167-9b95-daceb76042a6",
   "metadata": {},
   "source": [
    "Set up some strings for help with plotting and saving:"
   ]
  },
  {
   "cell_type": "code",
   "execution_count": 3,
   "id": "138b118b-0da6-4d28-a565-6394091c50c3",
   "metadata": {},
   "outputs": [],
   "source": [
    "tmp_fn = \"barplot_{}_{}_{}.png\"\n",
    "title_template = \"Mean {} by decade across all models for {}, AK\"\n",
    "plot_lu = {\n",
    "    \"rx1day\": {\"title\": \"Rx1day - max 1-day precip\", \"ylab\": \"mm\",},\n",
    "    \"rx5day\": {\"title\": \"Rx5day - max 5-day precip\", \"ylab\": \"mm\",},\n",
    "    \"r10mm\": {\"title\": \"R10mm - very wet days\", \"ylab\": \"Days\",},\n",
    "    \"hsd\": {\"title\": \"Heavy snow days\", \"ylab\": \"cm\",},\n",
    "    \"wsdi\": {\"title\": \"Warm spell duration index\", \"ylab\": \"Days\",},\n",
    "    \"csdi\": {\"title\": \"Cold spell duration index\", \"ylab\": \"Days\",},\n",
    "    \"hd\": {\"title\": \"Hot day\", \"ylab\": \"°C\",},\n",
    "    \"cd\": {\"title\": \"Cold day\", \"ylab\": \"°C\",},\n",
    "    \"su\": {\"title\": \"Summer days (max temp > 25 °C)\", \"ylab\": \"Days\",},\n",
    "    \"dw\": {\"title\": \"Deep winter days (min temp < -30 °C)\", \"ylab\": \"Days\",},\n",
    "    \"cdd\": {\"title\": \"Consecutive dry days (total precip > 1mm/day)\", \"ylab\": \"Days\",},\n",
    "    \"cwd\": {\"title\": \"Consecutive wet days (total precip < 1mm/day)\", \"ylab\": \"Days\",},\n",
    "    \"wndd\": {\"title\": \"Windy days (mean speed > 10 m/s)\", \"ylab\": \"Days\",},\n",
    "}"
   ]
  },
  {
   "cell_type": "markdown",
   "id": "5cbdac58-0eb5-4d09-a6e7-fae9dbdbc34c",
   "metadata": {},
   "source": [
    "And iterate over locations and indices and plot:"
   ]
  },
  {
   "cell_type": "code",
   "execution_count": 7,
   "id": "a54a5e46-b3d4-4dda-b380-eb6e18357b51",
   "metadata": {},
   "outputs": [
    {
     "name": "stdout",
     "output_type": "stream",
     "text": [
      "Kaktovik done\n",
      "Stevens Village done\n",
      "Igiugik Village done\n",
      "Levelock done\n",
      "Eyak done\n",
      "Ketchikan done\n",
      "Aleutians done\n",
      "Nanwalek done\n",
      "Port Graham done\n",
      "Qutekcak (Seward) done\n",
      "Chenega Bay done\n",
      "Tatitek done\n",
      "Valdez done\n",
      "Cordova done\n"
     ]
    }
   ],
   "source": [
    "for location in locations:\n",
    "    df = pd.read_excel(idx_decade_summary_fp, location, engine=\"openpyxl\") \n",
    "    for index in np.unique(df[\"idx_var\"].values):\n",
    "        title_str = title_template.format(plot_lu[index][\"title\"], location)\n",
    "        ylab = plot_lu[index][\"ylab\"]\n",
    "        \n",
    "        # keeping this snippet just in case. Moving to means only for now\n",
    "        # for aggr_var in [\"min\", \"mean\", \"max\"]:\n",
    "        aggr_var = \"mean\"\n",
    "        \n",
    "        out = make_decade_barplot(df, index, aggr_var, title_str, ylab)\n",
    "        if out == \"skip\":\n",
    "            continue\n",
    "        out_fp = decadal_summary_dir.joinpath(\n",
    "            \"barplots\",\n",
    "            index,\n",
    "            tmp_fn.format(aggr_var, index, location)\n",
    "        )\n",
    "        out_fp.parent.mkdir(exist_ok=True, parents=True)\n",
    "        plt.savefig(out_fp, bbox_inches='tight', facecolor=\"white\")\n",
    "        plt.close()\n",
    "    print(f\"{location} done\")"
   ]
  },
  {
   "cell_type": "markdown",
   "id": "44e4eb36-b961-4ac6-9e90-f59e25d6f772",
   "metadata": {},
   "source": [
    "Note - we do not print out the figures to the notebook here because there are many!"
   ]
  }
 ],
 "metadata": {
  "kernelspec": {
   "display_name": "Python 3 (ipykernel)",
   "language": "python",
   "name": "python3"
  },
  "language_info": {
   "codemirror_mode": {
    "name": "ipython",
    "version": 3
   },
   "file_extension": ".py",
   "mimetype": "text/x-python",
   "name": "python",
   "nbconvert_exporter": "python",
   "pygments_lexer": "ipython3",
   "version": "3.9.13"
  }
 },
 "nbformat": 4,
 "nbformat_minor": 5
}
