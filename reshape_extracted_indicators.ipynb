{
 "cells": [
  {
   "cell_type": "markdown",
   "id": "0627aaa0-c9cd-45d1-a843-c6a017c24e21",
   "metadata": {},
   "source": [
    "# Reshape location extractions\n",
    "\n",
    "This notebook is for reshaping the tables of indicators extracted at the provided locations of interest. Our collaborators have requested excel files containing the indicators values (for all decades and scenarios) using a separate document for each model. So we will start with creating one document for each model, and then the data will be split among tabs by location. \n",
    "\n",
    "Run imports:"
   ]
  },
  {
   "cell_type": "code",
   "execution_count": 1,
   "id": "be54ebe4-6d80-459d-9529-36b6214703ed",
   "metadata": {},
   "outputs": [],
   "source": [
    "from config import idx_decade_summary_dir, reshaped_decade_summary_dir, locations, models\n",
    "import pandas as pd"
   ]
  },
  {
   "cell_type": "markdown",
   "id": "eaad9d09-75da-426c-98a7-ede00d753721",
   "metadata": {},
   "source": [
    "Iterate over locations and models and save the new tables in excel files by model, with tabs for each location:"
   ]
  },
  {
   "cell_type": "code",
   "execution_count": 2,
   "id": "63788ce8-1980-4d43-8d85-2ec2af53f6b9",
   "metadata": {},
   "outputs": [
    {
     "name": "stdout",
     "output_type": "stream",
     "text": [
      "CPU times: user 4min 55s, sys: 1.06 s, total: 4min 56s\n",
      "Wall time: 4min 59s\n"
     ]
    }
   ],
   "source": [
    "%%time\n",
    "for location in locations:\n",
    "    loc_df = pd.read_csv(idx_decade_summary_dir.joinpath(f\"decade_summaries_{location}.csv\"))\n",
    "    for model in models:\n",
    "        model_df = loc_df.query(f\"model == '{model}'\").drop(columns=\"model\")\n",
    "        model_decade_fp = reshaped_decade_summary_dir.joinpath(f\"decadal_cordex_indicator_summaries_{model}.xlsx\")\n",
    "        with pd.ExcelWriter(model_decade_fp, engine=\"openpyxl\", mode=\"a\", if_sheet_exists=\"replace\") as decade_writer:\n",
    "            model_df.to_excel(decade_writer, sheet_name=location, index=False)"
   ]
  },
  {
   "cell_type": "markdown",
   "id": "988b8e67-4b89-4f19-9cd7-dc02f4df603d",
   "metadata": {},
   "source": [
    "done"
   ]
  }
 ],
 "metadata": {
  "kernelspec": {
   "display_name": "Python 3 (ipykernel)",
   "language": "python",
   "name": "python3"
  },
  "language_info": {
   "codemirror_mode": {
    "name": "ipython",
    "version": 3
   },
   "file_extension": ".py",
   "mimetype": "text/x-python",
   "name": "python",
   "nbconvert_exporter": "python",
   "pygments_lexer": "ipython3",
   "version": "3.9.13"
  }
 },
 "nbformat": 4,
 "nbformat_minor": 5
}
