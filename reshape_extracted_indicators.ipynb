{
 "cells": [
  {
   "cell_type": "markdown",
   "id": "0627aaa0-c9cd-45d1-a843-c6a017c24e21",
   "metadata": {},
   "source": [
    "# Reshape location extractions\n",
    "\n",
    "This notebook is for reshaping the tables of indicators extracted at the provided locations of interest. Our collaborators have requested excel files containing the indicators values (for all decades and scenarios) using a separate document for each model. So we will start with creating one document for each model, and then the data will be split among tabs by location. \n",
    "\n",
    "Run imports:"
   ]
  },
  {
   "cell_type": "code",
   "execution_count": 1,
   "id": "be54ebe4-6d80-459d-9529-36b6214703ed",
   "metadata": {},
   "outputs": [],
   "source": [
    "from config import idx_decade_summary_dir, reshaped_decade_summary_dir, locations, models, out_dir\n",
    "import numpy as np\n",
    "import pandas as pd"
   ]
  },
  {
   "cell_type": "markdown",
   "id": "eaad9d09-75da-426c-98a7-ede00d753721",
   "metadata": {},
   "source": [
    "### Tables by model\n",
    "\n",
    "Iterate over locations and models and save the new tables in excel files by model, with tabs for each location:"
   ]
  },
  {
   "cell_type": "code",
   "execution_count": 2,
   "id": "63788ce8-1980-4d43-8d85-2ec2af53f6b9",
   "metadata": {},
   "outputs": [
    {
     "name": "stdout",
     "output_type": "stream",
     "text": [
      "CPU times: user 4min 55s, sys: 1.06 s, total: 4min 56s\n",
      "Wall time: 4min 59s\n"
     ]
    }
   ],
   "source": [
    "%%time\n",
    "for location in locations:\n",
    "    loc_df = pd.read_csv(idx_decade_summary_dir.joinpath(f\"decade_summaries_{location}.csv\"))\n",
    "    for model in models:\n",
    "        model_df = loc_df.query(f\"model == '{model}'\").drop(columns=\"model\")\n",
    "        model_decade_fp = reshaped_decade_summary_dir.joinpath(f\"decadal_cordex_indicator_summaries_{model}.xlsx\")\n",
    "        with pd.ExcelWriter(model_decade_fp, engine=\"openpyxl\", mode=\"a\", if_sheet_exists=\"replace\") as decade_writer:\n",
    "            model_df.to_excel(decade_writer, sheet_name=location, index=False)"
   ]
  },
  {
   "cell_type": "markdown",
   "id": "c570f643-6db0-48f8-be39-79a169e805ff",
   "metadata": {},
   "source": [
    "### Barplots tables\n",
    "\n",
    "Here we will combine the CSV files containing tables of model averages and min/max used for the barplots, found in `$OUTPUT_DIR/decadal_extractions`. We will combine them into a single excel file for ease of use.\n"
   ]
  },
  {
   "cell_type": "code",
   "execution_count": 2,
   "id": "50843028-f964-4c0b-b049-2a913a6bff9e",
   "metadata": {},
   "outputs": [
    {
     "name": "stdout",
     "output_type": "stream",
     "text": [
      "CPU times: user 1.58 s, sys: 145 ms, total: 1.73 s\n",
      "Wall time: 2 s\n"
     ]
    }
   ],
   "source": [
    "%%time\n",
    "out_fp = out_dir.joinpath(\"crossmodel_decadal_averages_extractions.xlsx\")\n",
    "out_fp.unlink(missing_ok=True)\n",
    "with pd.ExcelWriter(out_fp, engine=\"openpyxl\", mode=\"w\") as decade_writer:\n",
    "    for location in locations:\n",
    "        # for location in locations:\n",
    "        loc_df = pd.read_csv(idx_decade_summary_dir.joinpath(f\"decade_summaries_{location}.csv\"))\n",
    "        loc_df = loc_df.rename(columns={\"idx_var\": \"indicator\"})\n",
    "        xmodel_summary_df = (\n",
    "            loc_df.groupby([\"indicator\", \"scenario\", \"decade\"])\n",
    "            .agg({\"mean\": [\"min\", \"mean\", \"max\"]})\n",
    "        ).droplevel(0, axis=1).reset_index().dropna()\n",
    "        xmodel_summary_df[\"mean\"] = xmodel_summary_df[\"mean\"].round(1)\n",
    "        xmodel_summary_df.to_excel(decade_writer, sheet_name=location, index=False)"
   ]
  },
  {
   "cell_type": "markdown",
   "id": "a0f15277-d417-480b-92ef-661c71ff5f9d",
   "metadata": {},
   "source": [
    "done"
   ]
  }
 ],
 "metadata": {
  "kernelspec": {
   "display_name": "Python 3 (ipykernel)",
   "language": "python",
   "name": "python3"
  },
  "language_info": {
   "codemirror_mode": {
    "name": "ipython",
    "version": 3
   },
   "file_extension": ".py",
   "mimetype": "text/x-python",
   "name": "python",
   "nbconvert_exporter": "python",
   "pygments_lexer": "ipython3",
   "version": "3.9.13"
  }
 },
 "nbformat": 4,
 "nbformat_minor": 5
}
