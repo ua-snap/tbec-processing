{
 "cells": [
  {
   "cell_type": "markdown",
   "id": "9c4131a3-d174-41ac-a343-e95ea5e04d3c",
   "metadata": {},
   "source": [
    "# Summarize extreme datasets\n",
    "\n",
    "This notebook is for creating summaries of the extreme variables derived from the CORDEX data. This will involve spreadsheets containing summarized data as well as some simple summary graphics.\n",
    "\n",
    "### Eras\n",
    "\n",
    "The eras of interest for summarizing these extremes will be:\n",
    "\n",
    "* 2011-2040\n",
    "* 2041-2070\n",
    "* 2071-2100\n",
    "\n",
    "\n"
   ]
  },
  {
   "cell_type": "code",
   "execution_count": 3,
   "id": "dafbd28b-415e-40d2-83ee-517764822f1f",
   "metadata": {},
   "outputs": [],
   "source": [
    "import os\n",
    "from pathlib import Path\n",
    "\n",
    "\n",
    "# write to the final_products/auxiliary_content directory, as the outputs from here will be used for reporting\n",
    "out_dir = Path(os.getenv(\"OUTPUT_DIR\") or \"/workspace/Shared/Tech_Projects/TBEC_CMIP5_Processing/final_products/\")\n",
    "extremes_fp = out_dir.joinpath(\"annual_extremes.nc\")"
   ]
  },
  {
   "cell_type": "markdown",
   "id": "dbfad659-3cfc-42e1-ae57-316ad5853a0a",
   "metadata": {},
   "source": [
    "Open connection to the extremes dataset:"
   ]
  },
  {
   "cell_type": "code",
   "execution_count": 4,
   "id": "11f6f51d-d5e7-4100-8ed9-3832fc6696f0",
   "metadata": {},
   "outputs": [],
   "source": [
    "import xarray as xr\n",
    "\n",
    "\n",
    "ds = xr.open_dataset(extremes_fp)"
   ]
  },
  {
   "cell_type": "markdown",
   "id": "355f538f-0666-493b-ad78-10b48ff17ecc",
   "metadata": {},
   "source": [
    "## Excel spreadsheet\n",
    "\n",
    "Create an excel spreadsheet of tidy tables of summarized extreme variables, where each worksheet is one of the study locations. Each tidy table will have the following headers:\n",
    "\n",
    "* `model`\n",
    "* `scenario`\n",
    "* `era` (time period)\n",
    "* `variable`"
   ]
  },
  {
   "cell_type": "markdown",
   "id": "60334d45-c801-4c7d-aef4-d669e38b3a89",
   "metadata": {},
   "source": [
    "Create some iterables for extracting the various summaries:"
   ]
  },
  {
   "cell_type": "code",
   "execution_count": 33,
   "id": "6a3eebca-8c3a-4d2a-9bd1-0d7cf56c4b0a",
   "metadata": {},
   "outputs": [],
   "source": [
    "eras = [\n",
    "    \"1981-2010\",\n",
    "    \"2011-2040\",\n",
    "    \"2041-2070\",\n",
    "    \"2071-2100\",\n",
    "]\n",
    "# only need to iterate over these two scenarios, since \n",
    "#  \"historical\" era actually contains 5 years from \n",
    "#  either of the future scenarios\n",
    "scenarios = [\"rcp45\", \"rcp85\"]\n",
    "# dict of WGS84 coords for each of the locations\n",
    "locations = {\n",
    "    \"Kaktovik\": (70.1, -143.6),\n",
    "    \"Stevens Village\": (66.1, -149.1),\n",
    "    \"Igiugik Village\": (59.3, -155.9),\n",
    "    \"Levelock\": (59.1, -156.9),\n",
    "    \"Nelson Lagoon\": (56.0, -161.2),\n",
    "    \"Eyak\": (60.5, -145.6),\n",
    "    \"Ketchikan\": (55.6, -136.6),\n",
    "    \"Unalaska\": (53.9, -166.5),\n",
    "}"
   ]
  },
  {
   "cell_type": "code",
   "execution_count": null,
   "id": "948682a2-97c2-4082-b1d1-da756dc30a84",
   "metadata": {},
   "outputs": [],
   "source": [
    "for model in ds.model.values:\n",
    "    for scenario in scenarios:\n",
    "        "
   ]
  },
  {
   "cell_type": "code",
   "execution_count": null,
   "id": "4c12ddd3-ad53-43c1-9231-35919593270e",
   "metadata": {},
   "outputs": [],
   "source": []
  },
  {
   "cell_type": "code",
   "execution_count": null,
   "id": "fe94fd2c-15e3-43a8-b3ff-654cbe449d0b",
   "metadata": {},
   "outputs": [],
   "source": []
  },
  {
   "cell_type": "code",
   "execution_count": null,
   "id": "4c20915a-741b-4dcf-aa46-333f41afbfff",
   "metadata": {},
   "outputs": [],
   "source": []
  }
 ],
 "metadata": {
  "kernelspec": {
   "display_name": "Python 3 (ipykernel)",
   "language": "python",
   "name": "python3"
  },
  "language_info": {
   "codemirror_mode": {
    "name": "ipython",
    "version": 3
   },
   "file_extension": ".py",
   "mimetype": "text/x-python",
   "name": "python",
   "nbconvert_exporter": "python",
   "pygments_lexer": "ipython3",
   "version": "3.8.10"
  }
 },
 "nbformat": 4,
 "nbformat_minor": 5
}
